{
  "nbformat": 4,
  "nbformat_minor": 0,
  "metadata": {
    "colab": {
      "provenance": [],
      "authorship_tag": "ABX9TyPECuCzmJt2xU9cJBzCQUwA",
      "include_colab_link": true
    },
    "kernelspec": {
      "name": "python3",
      "display_name": "Python 3"
    },
    "language_info": {
      "name": "python"
    }
  },
  "cells": [
    {
      "cell_type": "markdown",
      "metadata": {
        "id": "view-in-github",
        "colab_type": "text"
      },
      "source": [
        "<a href=\"https://colab.research.google.com/github/laumojo10/binance-investment-project/blob/main/Proyectos.ipynb\" target=\"_parent\"><img src=\"https://colab.research.google.com/assets/colab-badge.svg\" alt=\"Open In Colab\"/></a>"
      ]
    },
    {
      "cell_type": "markdown",
      "source": [
        "**Proyecto Creación de Bot texto en negrita**"
      ],
      "metadata": {
        "id": "8cuT1WcnjBsZ"
      }
    },
    {
      "cell_type": "code",
      "source": [
        "!pip install ccxt requests yfinance ta pandas numpy scipy torch matplotlib seaborn plotly python-binance"
      ],
      "metadata": {
        "colab": {
          "base_uri": "https://localhost:8080/"
        },
        "id": "v4ZNQr3Jg0yb",
        "outputId": "b229f9bc-18fc-4aab-9168-6541be528590"
      },
      "execution_count": 1,
      "outputs": [
        {
          "output_type": "stream",
          "name": "stdout",
          "text": [
            "Collecting ccxt\n",
            "  Downloading ccxt-4.4.59-py2.py3-none-any.whl.metadata (130 kB)\n",
            "\u001b[?25l     \u001b[90m━━━━━━━━━━━━━━━━━━━━━━━━━━━━━━━━━━━━━━━━\u001b[0m \u001b[32m0.0/130.3 kB\u001b[0m \u001b[31m?\u001b[0m eta \u001b[36m-:--:--\u001b[0m\r\u001b[2K     \u001b[91m━━━━━━━━━━━━━━━━━━━━━━━━━━━━━━━━━━━━━\u001b[0m\u001b[91m╸\u001b[0m\u001b[90m━━\u001b[0m \u001b[32m122.9/130.3 kB\u001b[0m \u001b[31m4.3 MB/s\u001b[0m eta \u001b[36m0:00:01\u001b[0m\r\u001b[2K     \u001b[90m━━━━━━━━━━━━━━━━━━━━━━━━━━━━━━━━━━━━━━━━\u001b[0m \u001b[32m130.3/130.3 kB\u001b[0m \u001b[31m1.8 MB/s\u001b[0m eta \u001b[36m0:00:00\u001b[0m\n",
            "\u001b[?25hRequirement already satisfied: requests in /usr/local/lib/python3.11/dist-packages (2.32.3)\n",
            "Requirement already satisfied: yfinance in /usr/local/lib/python3.11/dist-packages (0.2.52)\n",
            "Collecting ta\n",
            "  Downloading ta-0.11.0.tar.gz (25 kB)\n",
            "  Preparing metadata (setup.py) ... \u001b[?25l\u001b[?25hdone\n",
            "Requirement already satisfied: pandas in /usr/local/lib/python3.11/dist-packages (2.2.2)\n",
            "Requirement already satisfied: numpy in /usr/local/lib/python3.11/dist-packages (1.26.4)\n",
            "Requirement already satisfied: scipy in /usr/local/lib/python3.11/dist-packages (1.13.1)\n",
            "Requirement already satisfied: torch in /usr/local/lib/python3.11/dist-packages (2.5.1+cu124)\n",
            "Requirement already satisfied: matplotlib in /usr/local/lib/python3.11/dist-packages (3.10.0)\n",
            "Requirement already satisfied: seaborn in /usr/local/lib/python3.11/dist-packages (0.13.2)\n",
            "Requirement already satisfied: plotly in /usr/local/lib/python3.11/dist-packages (5.24.1)\n",
            "Collecting python-binance\n",
            "  Downloading python_binance-1.0.27-py2.py3-none-any.whl.metadata (13 kB)\n",
            "Requirement already satisfied: setuptools>=60.9.0 in /usr/local/lib/python3.11/dist-packages (from ccxt) (75.1.0)\n",
            "Requirement already satisfied: certifi>=2018.1.18 in /usr/local/lib/python3.11/dist-packages (from ccxt) (2025.1.31)\n",
            "Requirement already satisfied: cryptography>=2.6.1 in /usr/local/lib/python3.11/dist-packages (from ccxt) (43.0.3)\n",
            "Requirement already satisfied: typing-extensions>=4.4.0 in /usr/local/lib/python3.11/dist-packages (from ccxt) (4.12.2)\n",
            "Collecting aiohttp<=3.10.11 (from ccxt)\n",
            "  Downloading aiohttp-3.10.11-cp311-cp311-manylinux_2_17_x86_64.manylinux2014_x86_64.whl.metadata (7.7 kB)\n",
            "Collecting aiodns>=1.1.1 (from ccxt)\n",
            "  Downloading aiodns-3.2.0-py3-none-any.whl.metadata (4.0 kB)\n",
            "Requirement already satisfied: yarl>=1.7.2 in /usr/local/lib/python3.11/dist-packages (from ccxt) (1.18.3)\n",
            "Requirement already satisfied: charset-normalizer<4,>=2 in /usr/local/lib/python3.11/dist-packages (from requests) (3.4.1)\n",
            "Requirement already satisfied: idna<4,>=2.5 in /usr/local/lib/python3.11/dist-packages (from requests) (3.10)\n",
            "Requirement already satisfied: urllib3<3,>=1.21.1 in /usr/local/lib/python3.11/dist-packages (from requests) (2.3.0)\n",
            "Requirement already satisfied: multitasking>=0.0.7 in /usr/local/lib/python3.11/dist-packages (from yfinance) (0.0.11)\n",
            "Requirement already satisfied: lxml>=4.9.1 in /usr/local/lib/python3.11/dist-packages (from yfinance) (5.3.1)\n",
            "Requirement already satisfied: platformdirs>=2.0.0 in /usr/local/lib/python3.11/dist-packages (from yfinance) (4.3.6)\n",
            "Requirement already satisfied: pytz>=2022.5 in /usr/local/lib/python3.11/dist-packages (from yfinance) (2025.1)\n",
            "Requirement already satisfied: frozendict>=2.3.4 in /usr/local/lib/python3.11/dist-packages (from yfinance) (2.4.6)\n",
            "Requirement already satisfied: peewee>=3.16.2 in /usr/local/lib/python3.11/dist-packages (from yfinance) (3.17.9)\n",
            "Requirement already satisfied: beautifulsoup4>=4.11.1 in /usr/local/lib/python3.11/dist-packages (from yfinance) (4.13.3)\n",
            "Requirement already satisfied: html5lib>=1.1 in /usr/local/lib/python3.11/dist-packages (from yfinance) (1.1)\n",
            "Requirement already satisfied: python-dateutil>=2.8.2 in /usr/local/lib/python3.11/dist-packages (from pandas) (2.8.2)\n",
            "Requirement already satisfied: tzdata>=2022.7 in /usr/local/lib/python3.11/dist-packages (from pandas) (2025.1)\n",
            "Requirement already satisfied: filelock in /usr/local/lib/python3.11/dist-packages (from torch) (3.17.0)\n",
            "Requirement already satisfied: networkx in /usr/local/lib/python3.11/dist-packages (from torch) (3.4.2)\n",
            "Requirement already satisfied: jinja2 in /usr/local/lib/python3.11/dist-packages (from torch) (3.1.5)\n",
            "Requirement already satisfied: fsspec in /usr/local/lib/python3.11/dist-packages (from torch) (2024.10.0)\n",
            "Collecting nvidia-cuda-nvrtc-cu12==12.4.127 (from torch)\n",
            "  Downloading nvidia_cuda_nvrtc_cu12-12.4.127-py3-none-manylinux2014_x86_64.whl.metadata (1.5 kB)\n",
            "Collecting nvidia-cuda-runtime-cu12==12.4.127 (from torch)\n",
            "  Downloading nvidia_cuda_runtime_cu12-12.4.127-py3-none-manylinux2014_x86_64.whl.metadata (1.5 kB)\n",
            "Collecting nvidia-cuda-cupti-cu12==12.4.127 (from torch)\n",
            "  Downloading nvidia_cuda_cupti_cu12-12.4.127-py3-none-manylinux2014_x86_64.whl.metadata (1.6 kB)\n",
            "Collecting nvidia-cudnn-cu12==9.1.0.70 (from torch)\n",
            "  Downloading nvidia_cudnn_cu12-9.1.0.70-py3-none-manylinux2014_x86_64.whl.metadata (1.6 kB)\n",
            "Collecting nvidia-cublas-cu12==12.4.5.8 (from torch)\n",
            "  Downloading nvidia_cublas_cu12-12.4.5.8-py3-none-manylinux2014_x86_64.whl.metadata (1.5 kB)\n",
            "Collecting nvidia-cufft-cu12==11.2.1.3 (from torch)\n",
            "  Downloading nvidia_cufft_cu12-11.2.1.3-py3-none-manylinux2014_x86_64.whl.metadata (1.5 kB)\n",
            "Collecting nvidia-curand-cu12==10.3.5.147 (from torch)\n",
            "  Downloading nvidia_curand_cu12-10.3.5.147-py3-none-manylinux2014_x86_64.whl.metadata (1.5 kB)\n",
            "Collecting nvidia-cusolver-cu12==11.6.1.9 (from torch)\n",
            "  Downloading nvidia_cusolver_cu12-11.6.1.9-py3-none-manylinux2014_x86_64.whl.metadata (1.6 kB)\n",
            "Collecting nvidia-cusparse-cu12==12.3.1.170 (from torch)\n",
            "  Downloading nvidia_cusparse_cu12-12.3.1.170-py3-none-manylinux2014_x86_64.whl.metadata (1.6 kB)\n",
            "Requirement already satisfied: nvidia-nccl-cu12==2.21.5 in /usr/local/lib/python3.11/dist-packages (from torch) (2.21.5)\n",
            "Requirement already satisfied: nvidia-nvtx-cu12==12.4.127 in /usr/local/lib/python3.11/dist-packages (from torch) (12.4.127)\n",
            "Collecting nvidia-nvjitlink-cu12==12.4.127 (from torch)\n",
            "  Downloading nvidia_nvjitlink_cu12-12.4.127-py3-none-manylinux2014_x86_64.whl.metadata (1.5 kB)\n",
            "Requirement already satisfied: triton==3.1.0 in /usr/local/lib/python3.11/dist-packages (from torch) (3.1.0)\n",
            "Requirement already satisfied: sympy==1.13.1 in /usr/local/lib/python3.11/dist-packages (from torch) (1.13.1)\n",
            "Requirement already satisfied: mpmath<1.4,>=1.1.0 in /usr/local/lib/python3.11/dist-packages (from sympy==1.13.1->torch) (1.3.0)\n",
            "Requirement already satisfied: contourpy>=1.0.1 in /usr/local/lib/python3.11/dist-packages (from matplotlib) (1.3.1)\n",
            "Requirement already satisfied: cycler>=0.10 in /usr/local/lib/python3.11/dist-packages (from matplotlib) (0.12.1)\n",
            "Requirement already satisfied: fonttools>=4.22.0 in /usr/local/lib/python3.11/dist-packages (from matplotlib) (4.56.0)\n",
            "Requirement already satisfied: kiwisolver>=1.3.1 in /usr/local/lib/python3.11/dist-packages (from matplotlib) (1.4.8)\n",
            "Requirement already satisfied: packaging>=20.0 in /usr/local/lib/python3.11/dist-packages (from matplotlib) (24.2)\n",
            "Requirement already satisfied: pillow>=8 in /usr/local/lib/python3.11/dist-packages (from matplotlib) (11.1.0)\n",
            "Requirement already satisfied: pyparsing>=2.3.1 in /usr/local/lib/python3.11/dist-packages (from matplotlib) (3.2.1)\n",
            "Requirement already satisfied: tenacity>=6.2.0 in /usr/local/lib/python3.11/dist-packages (from plotly) (9.0.0)\n",
            "Requirement already satisfied: six in /usr/local/lib/python3.11/dist-packages (from python-binance) (1.17.0)\n",
            "Collecting dateparser (from python-binance)\n",
            "  Downloading dateparser-1.2.1-py3-none-any.whl.metadata (29 kB)\n",
            "Requirement already satisfied: websockets in /usr/local/lib/python3.11/dist-packages (from python-binance) (14.2)\n",
            "Collecting pycryptodome (from python-binance)\n",
            "  Downloading pycryptodome-3.21.0-cp36-abi3-manylinux_2_17_x86_64.manylinux2014_x86_64.whl.metadata (3.4 kB)\n",
            "Collecting pycares>=4.0.0 (from aiodns>=1.1.1->ccxt)\n",
            "  Downloading pycares-4.5.0-cp311-cp311-manylinux_2_17_x86_64.manylinux2014_x86_64.whl.metadata (4.1 kB)\n",
            "Requirement already satisfied: aiohappyeyeballs>=2.3.0 in /usr/local/lib/python3.11/dist-packages (from aiohttp<=3.10.11->ccxt) (2.4.6)\n",
            "Requirement already satisfied: aiosignal>=1.1.2 in /usr/local/lib/python3.11/dist-packages (from aiohttp<=3.10.11->ccxt) (1.3.2)\n",
            "Requirement already satisfied: attrs>=17.3.0 in /usr/local/lib/python3.11/dist-packages (from aiohttp<=3.10.11->ccxt) (25.1.0)\n",
            "Requirement already satisfied: frozenlist>=1.1.1 in /usr/local/lib/python3.11/dist-packages (from aiohttp<=3.10.11->ccxt) (1.5.0)\n",
            "Requirement already satisfied: multidict<7.0,>=4.5 in /usr/local/lib/python3.11/dist-packages (from aiohttp<=3.10.11->ccxt) (6.1.0)\n",
            "Requirement already satisfied: soupsieve>1.2 in /usr/local/lib/python3.11/dist-packages (from beautifulsoup4>=4.11.1->yfinance) (2.6)\n",
            "Requirement already satisfied: cffi>=1.12 in /usr/local/lib/python3.11/dist-packages (from cryptography>=2.6.1->ccxt) (1.17.1)\n",
            "Requirement already satisfied: webencodings in /usr/local/lib/python3.11/dist-packages (from html5lib>=1.1->yfinance) (0.5.1)\n",
            "Requirement already satisfied: propcache>=0.2.0 in /usr/local/lib/python3.11/dist-packages (from yarl>=1.7.2->ccxt) (0.2.1)\n",
            "Requirement already satisfied: regex!=2019.02.19,!=2021.8.27,>=2015.06.24 in /usr/local/lib/python3.11/dist-packages (from dateparser->python-binance) (2024.11.6)\n",
            "Requirement already satisfied: tzlocal>=0.2 in /usr/local/lib/python3.11/dist-packages (from dateparser->python-binance) (5.2)\n",
            "Requirement already satisfied: MarkupSafe>=2.0 in /usr/local/lib/python3.11/dist-packages (from jinja2->torch) (3.0.2)\n",
            "Requirement already satisfied: pycparser in /usr/local/lib/python3.11/dist-packages (from cffi>=1.12->cryptography>=2.6.1->ccxt) (2.22)\n",
            "Downloading ccxt-4.4.59-py2.py3-none-any.whl (5.6 MB)\n",
            "\u001b[2K   \u001b[90m━━━━━━━━━━━━━━━━━━━━━━━━━━━━━━━━━━━━━━━━\u001b[0m \u001b[32m5.6/5.6 MB\u001b[0m \u001b[31m11.0 MB/s\u001b[0m eta \u001b[36m0:00:00\u001b[0m\n",
            "\u001b[?25hDownloading nvidia_cublas_cu12-12.4.5.8-py3-none-manylinux2014_x86_64.whl (363.4 MB)\n",
            "\u001b[2K   \u001b[90m━━━━━━━━━━━━━━━━━━━━━━━━━━━━━━━━━━━━━━━━\u001b[0m \u001b[32m363.4/363.4 MB\u001b[0m \u001b[31m3.8 MB/s\u001b[0m eta \u001b[36m0:00:00\u001b[0m\n",
            "\u001b[?25hDownloading nvidia_cuda_cupti_cu12-12.4.127-py3-none-manylinux2014_x86_64.whl (13.8 MB)\n",
            "\u001b[2K   \u001b[90m━━━━━━━━━━━━━━━━━━━━━━━━━━━━━━━━━━━━━━━━\u001b[0m \u001b[32m13.8/13.8 MB\u001b[0m \u001b[31m37.3 MB/s\u001b[0m eta \u001b[36m0:00:00\u001b[0m\n",
            "\u001b[?25hDownloading nvidia_cuda_nvrtc_cu12-12.4.127-py3-none-manylinux2014_x86_64.whl (24.6 MB)\n",
            "\u001b[2K   \u001b[90m━━━━━━━━━━━━━━━━━━━━━━━━━━━━━━━━━━━━━━━━\u001b[0m \u001b[32m24.6/24.6 MB\u001b[0m \u001b[31m25.0 MB/s\u001b[0m eta \u001b[36m0:00:00\u001b[0m\n",
            "\u001b[?25hDownloading nvidia_cuda_runtime_cu12-12.4.127-py3-none-manylinux2014_x86_64.whl (883 kB)\n",
            "\u001b[2K   \u001b[90m━━━━━━━━━━━━━━━━━━━━━━━━━━━━━━━━━━━━━━━━\u001b[0m \u001b[32m883.7/883.7 kB\u001b[0m \u001b[31m28.5 MB/s\u001b[0m eta \u001b[36m0:00:00\u001b[0m\n",
            "\u001b[?25hDownloading nvidia_cudnn_cu12-9.1.0.70-py3-none-manylinux2014_x86_64.whl (664.8 MB)\n",
            "\u001b[2K   \u001b[90m━━━━━━━━━━━━━━━━━━━━━━━━━━━━━━━━━━━━━━━━\u001b[0m \u001b[32m664.8/664.8 MB\u001b[0m \u001b[31m2.4 MB/s\u001b[0m eta \u001b[36m0:00:00\u001b[0m\n",
            "\u001b[?25hDownloading nvidia_cufft_cu12-11.2.1.3-py3-none-manylinux2014_x86_64.whl (211.5 MB)\n",
            "\u001b[2K   \u001b[90m━━━━━━━━━━━━━━━━━━━━━━━━━━━━━━━━━━━━━━━━\u001b[0m \u001b[32m211.5/211.5 MB\u001b[0m \u001b[31m4.9 MB/s\u001b[0m eta \u001b[36m0:00:00\u001b[0m\n",
            "\u001b[?25hDownloading nvidia_curand_cu12-10.3.5.147-py3-none-manylinux2014_x86_64.whl (56.3 MB)\n",
            "\u001b[2K   \u001b[90m━━━━━━━━━━━━━━━━━━━━━━━━━━━━━━━━━━━━━━━━\u001b[0m \u001b[32m56.3/56.3 MB\u001b[0m \u001b[31m10.5 MB/s\u001b[0m eta \u001b[36m0:00:00\u001b[0m\n",
            "\u001b[?25hDownloading nvidia_cusolver_cu12-11.6.1.9-py3-none-manylinux2014_x86_64.whl (127.9 MB)\n",
            "\u001b[2K   \u001b[90m━━━━━━━━━━━━━━━━━━━━━━━━━━━━━━━━━━━━━━━━\u001b[0m \u001b[32m127.9/127.9 MB\u001b[0m \u001b[31m7.0 MB/s\u001b[0m eta \u001b[36m0:00:00\u001b[0m\n",
            "\u001b[?25hDownloading nvidia_cusparse_cu12-12.3.1.170-py3-none-manylinux2014_x86_64.whl (207.5 MB)\n",
            "\u001b[2K   \u001b[90m━━━━━━━━━━━━━━━━━━━━━━━━━━━━━━━━━━━━━━━━\u001b[0m \u001b[32m207.5/207.5 MB\u001b[0m \u001b[31m5.8 MB/s\u001b[0m eta \u001b[36m0:00:00\u001b[0m\n",
            "\u001b[?25hDownloading nvidia_nvjitlink_cu12-12.4.127-py3-none-manylinux2014_x86_64.whl (21.1 MB)\n",
            "\u001b[2K   \u001b[90m━━━━━━━━━━━━━━━━━━━━━━━━━━━━━━━━━━━━━━━━\u001b[0m \u001b[32m21.1/21.1 MB\u001b[0m \u001b[31m59.3 MB/s\u001b[0m eta \u001b[36m0:00:00\u001b[0m\n",
            "\u001b[?25hDownloading python_binance-1.0.27-py2.py3-none-any.whl (113 kB)\n",
            "\u001b[2K   \u001b[90m━━━━━━━━━━━━━━━━━━━━━━━━━━━━━━━━━━━━━━━━\u001b[0m \u001b[32m113.7/113.7 kB\u001b[0m \u001b[31m7.8 MB/s\u001b[0m eta \u001b[36m0:00:00\u001b[0m\n",
            "\u001b[?25hDownloading aiodns-3.2.0-py3-none-any.whl (5.7 kB)\n",
            "Downloading aiohttp-3.10.11-cp311-cp311-manylinux_2_17_x86_64.manylinux2014_x86_64.whl (1.3 MB)\n",
            "\u001b[2K   \u001b[90m━━━━━━━━━━━━━━━━━━━━━━━━━━━━━━━━━━━━━━━━\u001b[0m \u001b[32m1.3/1.3 MB\u001b[0m \u001b[31m52.3 MB/s\u001b[0m eta \u001b[36m0:00:00\u001b[0m\n",
            "\u001b[?25hDownloading dateparser-1.2.1-py3-none-any.whl (295 kB)\n",
            "\u001b[2K   \u001b[90m━━━━━━━━━━━━━━━━━━━━━━━━━━━━━━━━━━━━━━━━\u001b[0m \u001b[32m295.7/295.7 kB\u001b[0m \u001b[31m11.9 MB/s\u001b[0m eta \u001b[36m0:00:00\u001b[0m\n",
            "\u001b[?25hDownloading pycryptodome-3.21.0-cp36-abi3-manylinux_2_17_x86_64.manylinux2014_x86_64.whl (2.3 MB)\n",
            "\u001b[2K   \u001b[90m━━━━━━━━━━━━━━━━━━━━━━━━━━━━━━━━━━━━━━━━\u001b[0m \u001b[32m2.3/2.3 MB\u001b[0m \u001b[31m68.9 MB/s\u001b[0m eta \u001b[36m0:00:00\u001b[0m\n",
            "\u001b[?25hDownloading pycares-4.5.0-cp311-cp311-manylinux_2_17_x86_64.manylinux2014_x86_64.whl (288 kB)\n",
            "\u001b[2K   \u001b[90m━━━━━━━━━━━━━━━━━━━━━━━━━━━━━━━━━━━━━━━━\u001b[0m \u001b[32m288.6/288.6 kB\u001b[0m \u001b[31m20.4 MB/s\u001b[0m eta \u001b[36m0:00:00\u001b[0m\n",
            "\u001b[?25hBuilding wheels for collected packages: ta\n",
            "  Building wheel for ta (setup.py) ... \u001b[?25l\u001b[?25hdone\n",
            "  Created wheel for ta: filename=ta-0.11.0-py3-none-any.whl size=29412 sha256=0831b4a26d6866bd0eb3401cd8d4aeb2baf2a94a07b32d6efc22610f73412fed\n",
            "  Stored in directory: /root/.cache/pip/wheels/a1/d7/29/7781cc5eb9a3659d032d7d15bdd0f49d07d2b24fec29f44bc4\n",
            "Successfully built ta\n",
            "Installing collected packages: pycryptodome, nvidia-nvjitlink-cu12, nvidia-curand-cu12, nvidia-cufft-cu12, nvidia-cuda-runtime-cu12, nvidia-cuda-nvrtc-cu12, nvidia-cuda-cupti-cu12, nvidia-cublas-cu12, pycares, nvidia-cusparse-cu12, nvidia-cudnn-cu12, dateparser, aiohttp, ta, python-binance, nvidia-cusolver-cu12, aiodns, ccxt\n",
            "  Attempting uninstall: nvidia-nvjitlink-cu12\n",
            "    Found existing installation: nvidia-nvjitlink-cu12 12.5.82\n",
            "    Uninstalling nvidia-nvjitlink-cu12-12.5.82:\n",
            "      Successfully uninstalled nvidia-nvjitlink-cu12-12.5.82\n",
            "  Attempting uninstall: nvidia-curand-cu12\n",
            "    Found existing installation: nvidia-curand-cu12 10.3.6.82\n",
            "    Uninstalling nvidia-curand-cu12-10.3.6.82:\n",
            "      Successfully uninstalled nvidia-curand-cu12-10.3.6.82\n",
            "  Attempting uninstall: nvidia-cufft-cu12\n",
            "    Found existing installation: nvidia-cufft-cu12 11.2.3.61\n",
            "    Uninstalling nvidia-cufft-cu12-11.2.3.61:\n",
            "      Successfully uninstalled nvidia-cufft-cu12-11.2.3.61\n",
            "  Attempting uninstall: nvidia-cuda-runtime-cu12\n",
            "    Found existing installation: nvidia-cuda-runtime-cu12 12.5.82\n",
            "    Uninstalling nvidia-cuda-runtime-cu12-12.5.82:\n",
            "      Successfully uninstalled nvidia-cuda-runtime-cu12-12.5.82\n",
            "  Attempting uninstall: nvidia-cuda-nvrtc-cu12\n",
            "    Found existing installation: nvidia-cuda-nvrtc-cu12 12.5.82\n",
            "    Uninstalling nvidia-cuda-nvrtc-cu12-12.5.82:\n",
            "      Successfully uninstalled nvidia-cuda-nvrtc-cu12-12.5.82\n",
            "  Attempting uninstall: nvidia-cuda-cupti-cu12\n",
            "    Found existing installation: nvidia-cuda-cupti-cu12 12.5.82\n",
            "    Uninstalling nvidia-cuda-cupti-cu12-12.5.82:\n",
            "      Successfully uninstalled nvidia-cuda-cupti-cu12-12.5.82\n",
            "  Attempting uninstall: nvidia-cublas-cu12\n",
            "    Found existing installation: nvidia-cublas-cu12 12.5.3.2\n",
            "    Uninstalling nvidia-cublas-cu12-12.5.3.2:\n",
            "      Successfully uninstalled nvidia-cublas-cu12-12.5.3.2\n",
            "  Attempting uninstall: nvidia-cusparse-cu12\n",
            "    Found existing installation: nvidia-cusparse-cu12 12.5.1.3\n",
            "    Uninstalling nvidia-cusparse-cu12-12.5.1.3:\n",
            "      Successfully uninstalled nvidia-cusparse-cu12-12.5.1.3\n",
            "  Attempting uninstall: nvidia-cudnn-cu12\n",
            "    Found existing installation: nvidia-cudnn-cu12 9.3.0.75\n",
            "    Uninstalling nvidia-cudnn-cu12-9.3.0.75:\n",
            "      Successfully uninstalled nvidia-cudnn-cu12-9.3.0.75\n",
            "  Attempting uninstall: aiohttp\n",
            "    Found existing installation: aiohttp 3.11.12\n",
            "    Uninstalling aiohttp-3.11.12:\n",
            "      Successfully uninstalled aiohttp-3.11.12\n",
            "  Attempting uninstall: nvidia-cusolver-cu12\n",
            "    Found existing installation: nvidia-cusolver-cu12 11.6.3.83\n",
            "    Uninstalling nvidia-cusolver-cu12-11.6.3.83:\n",
            "      Successfully uninstalled nvidia-cusolver-cu12-11.6.3.83\n",
            "Successfully installed aiodns-3.2.0 aiohttp-3.10.11 ccxt-4.4.59 dateparser-1.2.1 nvidia-cublas-cu12-12.4.5.8 nvidia-cuda-cupti-cu12-12.4.127 nvidia-cuda-nvrtc-cu12-12.4.127 nvidia-cuda-runtime-cu12-12.4.127 nvidia-cudnn-cu12-9.1.0.70 nvidia-cufft-cu12-11.2.1.3 nvidia-curand-cu12-10.3.5.147 nvidia-cusolver-cu12-11.6.1.9 nvidia-cusparse-cu12-12.3.1.170 nvidia-nvjitlink-cu12-12.4.127 pycares-4.5.0 pycryptodome-3.21.0 python-binance-1.0.27 ta-0.11.0\n"
          ]
        }
      ]
    },
    {
      "cell_type": "code",
      "execution_count": 2,
      "metadata": {
        "id": "hqRLFUXxfs7g"
      },
      "outputs": [],
      "source": [
        "import ccxt\n",
        "import requests\n",
        "import time\n",
        "import yfinance  as yf\n",
        "import ta\n",
        "import pandas as pd\n",
        "import numpy  as np\n",
        "from scipy.optimize import minimize\n",
        "import torch\n",
        "import matplotlib.pyplot as plt\n",
        "import seaborn as sns\n",
        "import plotly.graph_objects as go\n",
        "#from binance.client import Client"
      ]
    },
    {
      "cell_type": "code",
      "source": [
        "from binance.client import Client"
      ],
      "metadata": {
        "id": "4WROmzHJclXm"
      },
      "execution_count": 3,
      "outputs": []
    },
    {
      "cell_type": "code",
      "source": [
        "# Configura tus claves de API (obténlas desde Binance)\n",
        "API_KEY = \"A0qBhK6SlZkAEty05D4Oj16L4PAdCsCiTpUqkb4DbeT6leDv3ofIZOxpSU20Ps6z\"\n",
        "API_SECRET = \"R04BSkajiI4LrwbBy3nVKkXhatOvygyxIh8DyQ01IAto1jUPEeiIomk7nWfVfy59\""
      ],
      "metadata": {
        "id": "5LJM1aGXNl1F"
      },
      "execution_count": 4,
      "outputs": []
    },
    {
      "cell_type": "code",
      "source": [
        "response = requests.get(\"https://api.binance.com/api/v3/ping\")\n",
        "print(response.status_code, response.text)"
      ],
      "metadata": {
        "colab": {
          "base_uri": "https://localhost:8080/"
        },
        "id": "80B7nqcDg7BK",
        "outputId": "9de6b0ac-edea-47ac-8bd7-5b075ae8ce2e"
      },
      "execution_count": 5,
      "outputs": [
        {
          "output_type": "stream",
          "name": "stdout",
          "text": [
            "451 {\n",
            "  \"code\": 0,\n",
            "  \"msg\": \"Service unavailable from a restricted location according to 'b. Eligibility' in https://www.binance.com/en/terms. Please contact customer service if you believe you received this message in error.\"\n",
            "}\n"
          ]
        }
      ]
    },
    {
      "cell_type": "code",
      "source": [
        "# Inicializa el cliente de Binance\n",
        "client = Client(API_KEY, API_SECRET,tld=\"us\")"
      ],
      "metadata": {
        "id": "DKxQPkpyOnX3"
      },
      "execution_count": 73,
      "outputs": []
    },
    {
      "cell_type": "code",
      "source": [
        "# Define la criptomoneda a monitorear\n",
        "symbol = \"BTC/USDT\"  # Puedes cambiarlo por ETH/USDT, EUR/USDT, etc.\n",
        "alert_price = 40000  # Precio de alerta"
      ],
      "metadata": {
        "id": "KCvYTB1MOpec"
      },
      "execution_count": 74,
      "outputs": []
    },
    {
      "cell_type": "code",
      "source": [
        "# Conectar con Binance usando CCXT\n",
        "exchange = ccxt.binance()\n"
      ],
      "metadata": {
        "id": "yVvrWm92OrgO"
      },
      "execution_count": 75,
      "outputs": []
    },
    {
      "cell_type": "code",
      "source": [
        "# Get historical klines (candlestick) data for BTC/USDT (1-day interval)\n",
        "klines = client.get_klines(symbol=\"BTCUSDT\", interval=Client.KLINE_INTERVAL_1DAY)\n",
        "\n",
        "# Convert to DataFrame\n",
        "df = pd.DataFrame(klines, columns=['Time', 'Open', 'High', 'Low', 'Close', 'Volume',\n",
        "                                   'CloseTime', 'QuoteVolume', 'Trades', 'TakerBaseVol', 'TakerQuoteVol', 'Ignore'])\n",
        "\n",
        "# Convert Close price to float and timestamp to readable format\n",
        "df['Close'] = df['Close'].astype(float)\n",
        "df['Time'] = pd.to_datetime(df['Time'], unit='ms')\n",
        "\n",
        "# Print last 5 rows\n",
        "print(df[['Time', 'Close']].tail())"
      ],
      "metadata": {
        "colab": {
          "base_uri": "https://localhost:8080/"
        },
        "id": "MDsdxiBwiYh2",
        "outputId": "7baa1c3f-0704-4d06-99a0-10e08a064cbe"
      },
      "execution_count": 107,
      "outputs": [
        {
          "output_type": "stream",
          "name": "stdout",
          "text": [
            "          Time     Close\n",
            "495 2025-02-12  97712.99\n",
            "496 2025-02-13  96550.39\n",
            "497 2025-02-14  97477.75\n",
            "498 2025-02-15  97571.43\n",
            "499 2025-02-16  97409.12\n"
          ]
        }
      ]
    },
    {
      "cell_type": "code",
      "source": [
        "# Fetch BTC/USDT historical klines with a 4-hour interval\n",
        "klines = client.get_klines(symbol=\"BTCUSDT\", interval=Client.KLINE_INTERVAL_4HOUR)\n",
        "\n",
        "# Convert to DataFrame\n",
        "df = pd.DataFrame(klines, columns=['Time', 'Open', 'High', 'Low', 'Close', 'Volume',\n",
        "                                   'CloseTime', 'QuoteVolume', 'Trades', 'TakerBaseVol', 'TakerQuoteVol', 'Ignore'])\n",
        "\n",
        "# Convert Close price to float and timestamp to readable format\n",
        "df['Close'] = df['Close'].astype(float)\n",
        "df['Time'] = pd.to_datetime(df['Time'], unit='ms')\n",
        "\n",
        "# Print last 5 rows\n",
        "print(df[['Time', 'Close']].tail(20))"
      ],
      "metadata": {
        "colab": {
          "base_uri": "https://localhost:8080/"
        },
        "id": "MR8M8-nJlH-Y",
        "outputId": "56a67b6c-e418-4868-ae2d-1bc1095074de"
      },
      "execution_count": 77,
      "outputs": [
        {
          "output_type": "stream",
          "name": "stdout",
          "text": [
            "                   Time     Close\n",
            "480 2025-02-12 20:00:00  97712.99\n",
            "481 2025-02-13 00:00:00  97380.05\n",
            "482 2025-02-13 04:00:00  96036.53\n",
            "483 2025-02-13 08:00:00  95943.23\n",
            "484 2025-02-13 12:00:00  95936.36\n",
            "485 2025-02-13 16:00:00  95672.44\n",
            "486 2025-02-13 20:00:00  96550.39\n",
            "487 2025-02-14 00:00:00  97012.33\n",
            "488 2025-02-14 04:00:00  96900.93\n",
            "489 2025-02-14 08:00:00  96908.69\n",
            "490 2025-02-14 12:00:00  96860.20\n",
            "491 2025-02-14 16:00:00  97924.11\n",
            "492 2025-02-14 20:00:00  97477.75\n",
            "493 2025-02-15 00:00:00  97701.82\n",
            "494 2025-02-15 04:00:00  97435.82\n",
            "495 2025-02-15 08:00:00  97636.01\n",
            "496 2025-02-15 12:00:00  97518.60\n",
            "497 2025-02-15 16:00:00  97513.93\n",
            "498 2025-02-15 20:00:00  97571.43\n",
            "499 2025-02-16 00:00:00  97445.54\n"
          ]
        }
      ]
    },
    {
      "cell_type": "code",
      "source": [
        "# Fetch BTC/USDT historical klines with a 4-hour interval\n",
        "klines = client.get_klines(symbol=\"BTCUSDT\", interval=Client.KLINE_INTERVAL_1WEEK)\n",
        "\n",
        "# Convert to DataFrame\n",
        "df = pd.DataFrame(klines, columns=['Time', 'Open', 'High', 'Low', 'Close', 'Volume',\n",
        "                                   'CloseTime', 'QuoteVolume', 'Trades', 'TakerBaseVol', 'TakerQuoteVol', 'Ignore'])\n",
        "\n",
        "# Convert Close price to float and timestamp to readable format\n",
        "df['Close'] = df['Close'].astype(float)\n",
        "df['Time'] = pd.to_datetime(df['Time'], unit='ms')\n",
        "\n",
        "# Print last 5 rows\n",
        "print(df[['Time', 'Close']].tail(20))"
      ],
      "metadata": {
        "colab": {
          "base_uri": "https://localhost:8080/"
        },
        "id": "jST2R15_lxn9",
        "outputId": "ed16ef79-eaad-4c98-ae77-e797194102c3"
      },
      "execution_count": 86,
      "outputs": [
        {
          "output_type": "stream",
          "name": "stdout",
          "text": [
            "          Time      Close\n",
            "262 2024-09-30   62807.02\n",
            "263 2024-10-07   62857.80\n",
            "264 2024-10-14   69029.51\n",
            "265 2024-10-21   67900.00\n",
            "266 2024-10-28   68724.23\n",
            "267 2024-11-04   80452.94\n",
            "268 2024-11-11   89792.00\n",
            "269 2024-11-18   97700.51\n",
            "270 2024-11-25   97249.75\n",
            "271 2024-12-02  101159.43\n",
            "272 2024-12-09  104334.87\n",
            "273 2024-12-16   95119.37\n",
            "274 2024-12-23   93861.71\n",
            "275 2024-12-30   98300.03\n",
            "276 2025-01-06   94455.62\n",
            "277 2025-01-13  101032.19\n",
            "278 2025-01-20  102618.04\n",
            "279 2025-01-27   97692.60\n",
            "280 2025-02-03   96426.86\n",
            "281 2025-02-10   97409.12\n"
          ]
        }
      ]
    },
    {
      "cell_type": "code",
      "source": [
        "print(df['Close'].tail(20))\n",
        "df = df['Close']\n",
        "print(df.tail(20))"
      ],
      "metadata": {
        "colab": {
          "base_uri": "https://localhost:8080/"
        },
        "id": "8bdRbyCeyWAp",
        "outputId": "2c8becf3-2f0e-4c9b-a357-723f8a10f6ea"
      },
      "execution_count": 108,
      "outputs": [
        {
          "output_type": "stream",
          "name": "stdout",
          "text": [
            "480    101396.65\n",
            "481    103603.88\n",
            "482    104789.27\n",
            "483    102424.11\n",
            "484    100594.76\n",
            "485     97692.60\n",
            "486    101437.32\n",
            "487     97819.04\n",
            "488     96595.25\n",
            "489     96634.00\n",
            "490     96463.26\n",
            "491     96497.55\n",
            "492     96426.86\n",
            "493     97456.17\n",
            "494     95748.61\n",
            "495     97712.99\n",
            "496     96550.39\n",
            "497     97477.75\n",
            "498     97571.43\n",
            "499     97409.12\n",
            "Name: Close, dtype: float64\n",
            "480    101396.65\n",
            "481    103603.88\n",
            "482    104789.27\n",
            "483    102424.11\n",
            "484    100594.76\n",
            "485     97692.60\n",
            "486    101437.32\n",
            "487     97819.04\n",
            "488     96595.25\n",
            "489     96634.00\n",
            "490     96463.26\n",
            "491     96497.55\n",
            "492     96426.86\n",
            "493     97456.17\n",
            "494     95748.61\n",
            "495     97712.99\n",
            "496     96550.39\n",
            "497     97477.75\n",
            "498     97571.43\n",
            "499     97409.12\n",
            "Name: Close, dtype: float64\n"
          ]
        }
      ]
    },
    {
      "cell_type": "code",
      "source": [
        "# Calculate 200-day moving average\n",
        "df['200_MA'] = df['Close'].rolling(window=200).mean()\n",
        "\n",
        "# Print result\n",
        "print(df)"
      ],
      "metadata": {
        "colab": {
          "base_uri": "https://localhost:8080/"
        },
        "id": "3Km1P_YsrtD5",
        "outputId": "8b0e178e-fb8b-497c-9753-d4420199b434"
      },
      "execution_count": 88,
      "outputs": [
        {
          "output_type": "stream",
          "name": "stdout",
          "text": [
            "          Time             Open             High             Low      Close  \\\n",
            "0   2019-09-23    9930.13000000    9930.13000000   7761.87000000    8047.12   \n",
            "1   2019-09-30    8058.25000000    8498.23000000   7744.23000000    7866.87   \n",
            "2   2019-10-07    7860.25000000    8772.46000000   7772.14000000    8276.97   \n",
            "3   2019-10-14    8273.46000000    8400.92000000   7825.00000000    8220.22   \n",
            "4   2019-10-21    8222.00000000   10352.43000000   7310.24000000    9530.88   \n",
            "..         ...              ...              ...             ...        ...   \n",
            "277 2025-01-13   94561.19000000  106351.62000000  89438.45000000  101032.19   \n",
            "278 2025-01-20  101032.80000000  109461.87000000  99611.36000000  102618.04   \n",
            "279 2025-01-27  102618.04000000  106300.00000000  96501.73000000   97692.60   \n",
            "280 2025-02-03   97702.50000000  102326.68000000  92197.00000000   96426.86   \n",
            "281 2025-02-10   96514.66000000   98668.27000000  94246.95000000   97409.12   \n",
            "\n",
            "            Volume      CloseTime        QuoteVolume  Trades   TakerBaseVol  \\\n",
            "0     429.67285400  1569801599999   3598187.80739697    6566   243.54207900   \n",
            "1     374.56444300  1570406399999   3029555.23378744   12767   216.20009900   \n",
            "2     474.85882800  1571011199999   3958565.68823375   20005   232.27501900   \n",
            "3     625.57210700  1571615999999   5062075.79745225   29912   323.13549100   \n",
            "4    2223.66104800  1572220799999  19154799.22478981  149979  1129.57110700   \n",
            "..             ...            ...                ...     ...            ...   \n",
            "277   172.58743000  1737331199999  17224159.04232560   31665    98.69533000   \n",
            "278   217.16965000  1737935999999  22757489.93703970   31875   117.71158000   \n",
            "279   216.30814000  1738540799999  21959541.62014940   26902    90.42513000   \n",
            "280   171.29131000  1739145599999  16605131.82958810   26741    66.19070000   \n",
            "281    73.22458000  1739750399999   7089610.51966610   14405    37.84426000   \n",
            "\n",
            "         TakerQuoteVol Ignore       200_MA  \n",
            "0     2037340.48568394      0          NaN  \n",
            "1     1748763.98412791      0          NaN  \n",
            "2     1933903.30982701      0          NaN  \n",
            "3     2612162.35312223      0          NaN  \n",
            "4     9774236.07520754      0          NaN  \n",
            "..                 ...    ...          ...  \n",
            "277   9871048.26952820      0  43361.96910  \n",
            "278  12372156.82341480      0  43596.19030  \n",
            "279   9233039.34012500      0  43793.75415  \n",
            "280   6438350.84019810      0  43975.88145  \n",
            "281   3664283.47956480      0  44182.15150  \n",
            "\n",
            "[282 rows x 13 columns]\n"
          ]
        }
      ]
    },
    {
      "cell_type": "code",
      "source": [
        "for_last_SMA200=df['Close'].iloc[-1]\n",
        "print(for_last_SMA200)"
      ],
      "metadata": {
        "colab": {
          "base_uri": "https://localhost:8080/"
        },
        "id": "6jvcNZbKn865",
        "outputId": "bfbb9081-1c33-46f0-af72-808a1334ebf9"
      },
      "execution_count": 90,
      "outputs": [
        {
          "output_type": "stream",
          "name": "stdout",
          "text": [
            "97409.12\n"
          ]
        }
      ]
    },
    {
      "cell_type": "code",
      "source": [
        "last_SMA200=df['Close'].iloc[-2]\n",
        "print(last_SMA200)"
      ],
      "metadata": {
        "colab": {
          "base_uri": "https://localhost:8080/"
        },
        "id": "BU6KbYPcohwb",
        "outputId": "afbb91f3-ace9-4fc4-bba9-1bb25b0f5c46"
      },
      "execution_count": 92,
      "outputs": [
        {
          "output_type": "stream",
          "name": "stdout",
          "text": [
            "96426.86\n"
          ]
        }
      ]
    },
    {
      "cell_type": "code",
      "source": [
        "# Sample data: Assume you have a DataFrame with a 'Close' column\n",
        "bull_market_criteria = (last_SMA200 - for_last_SMA200)/for_last_SMA200\n",
        "print(bull_market_criteria)\n",
        "\n",
        "alpha_bull=0.01\n",
        "if bull_market_criteria > alpha_bull:\n",
        "    print(\"bull market\")\n",
        "else:\n",
        "    print(\"bear market\")"
      ],
      "metadata": {
        "colab": {
          "base_uri": "https://localhost:8080/"
        },
        "id": "iYWRX8ehmCJb",
        "outputId": "1d00e862-5a73-48dc-bfc7-289366d134bc"
      },
      "execution_count": 93,
      "outputs": [
        {
          "output_type": "stream",
          "name": "stdout",
          "text": [
            "-0.010083860730904814\n",
            "bear market\n"
          ]
        }
      ]
    },
    {
      "cell_type": "code",
      "source": [
        "ff =df['Close'].iloc[-1]\n",
        "f2 = df['200_MA'].iloc[-1]\n",
        "print(ff)\n",
        "print(f2)"
      ],
      "metadata": {
        "colab": {
          "base_uri": "https://localhost:8080/"
        },
        "id": "0J6oY6BDpxZe",
        "outputId": "aea14c81-37f9-44eb-b523-cfa315e2516c"
      },
      "execution_count": 95,
      "outputs": [
        {
          "output_type": "stream",
          "name": "stdout",
          "text": [
            "97409.12\n",
            "44182.15149999999\n"
          ]
        }
      ]
    },
    {
      "cell_type": "code",
      "source": [
        "criteria_2 = (ff -f2)/f2\n",
        "alpha_bull_2= 0.01\n",
        "if criteria_2 >alpha_bull_2:\n",
        "    print(\"bull market\")\n",
        "else:\n",
        "    print(\"bear market\")"
      ],
      "metadata": {
        "colab": {
          "base_uri": "https://localhost:8080/"
        },
        "id": "Y0K7M1a-sLJk",
        "outputId": "f624b408-7144-4ed0-c425-10d3a8b05ba7"
      },
      "execution_count": 20,
      "outputs": [
        {
          "output_type": "stream",
          "name": "stdout",
          "text": [
            "bull market\n"
          ]
        }
      ]
    },
    {
      "cell_type": "markdown",
      "source": [
        "DCA"
      ],
      "metadata": {
        "id": "jQE7yGWes3hY"
      }
    },
    {
      "cell_type": "code",
      "source": [
        "#DCA: dollar cost average\n",
        "#constant investing quantities in regular periods of time\n"
      ],
      "metadata": {
        "id": "DTrOLb98s5HK"
      },
      "execution_count": 96,
      "outputs": []
    },
    {
      "cell_type": "code",
      "source": [
        "\n",
        "    # Obtener el precio actual de Bitcoin (BTC/USDT)\n",
        "    price = client.get_symbol_ticker(symbol=\"BTCUSDT\")[\"price\"]\n",
        "    price = float(price)\n",
        "    print(f\"Precio actual de BTC/USDT: {price}\")\n",
        "    # Esperar 1 minuto (60 segundos)\n"
      ],
      "metadata": {
        "colab": {
          "base_uri": "https://localhost:8080/"
        },
        "id": "RQejfSOpuA7R",
        "outputId": "27980b7e-1987-4d2f-96bb-9b3ddea94d0c"
      },
      "execution_count": 97,
      "outputs": [
        {
          "output_type": "stream",
          "name": "stdout",
          "text": [
            "Precio actual de BTC/USDT: 97409.12\n"
          ]
        }
      ]
    },
    {
      "cell_type": "code",
      "source": [
        "df_precio=pd.DataFrame([[price]],columns=['price_Actual'])"
      ],
      "metadata": {
        "id": "jm17YVMgxyUl"
      },
      "execution_count": 98,
      "outputs": []
    },
    {
      "cell_type": "code",
      "source": [
        "precio_Actual=df_precio['price_Actual'].iloc[0]\n",
        "print(precio_Actual)"
      ],
      "metadata": {
        "colab": {
          "base_uri": "https://localhost:8080/"
        },
        "id": "TtvYFMzxx03Y",
        "outputId": "eb359a98-a76d-4621-a676-1c8eae293387"
      },
      "execution_count": 99,
      "outputs": [
        {
          "output_type": "stream",
          "name": "stdout",
          "text": [
            "97409.12\n"
          ]
        }
      ]
    },
    {
      "cell_type": "code",
      "source": [
        "price_lastday_close=df_precio['price_Actual'].iloc[-1]\n",
        "print(price_lastday_close)"
      ],
      "metadata": {
        "colab": {
          "base_uri": "https://localhost:8080/"
        },
        "id": "Yw6wBENLpAEy",
        "outputId": "d8fcce49-9ec5-4882-867d-b09f72410136"
      },
      "execution_count": 100,
      "outputs": [
        {
          "output_type": "stream",
          "name": "stdout",
          "text": [
            "97409.12\n"
          ]
        }
      ]
    },
    {
      "cell_type": "code",
      "source": [
        "print(precio_Actual)\n",
        "print(price_lastday_close)\n"
      ],
      "metadata": {
        "colab": {
          "base_uri": "https://localhost:8080/"
        },
        "id": "Dl1Ht9W8vVcE",
        "outputId": "e393a8a3-626f-4f37-aea4-227f7eb8741b"
      },
      "execution_count": 101,
      "outputs": [
        {
          "output_type": "stream",
          "name": "stdout",
          "text": [
            "97409.12\n",
            "97409.12\n"
          ]
        }
      ]
    },
    {
      "cell_type": "code",
      "source": [
        "x = (precio_Actual - price_lastday_close)/price_lastday_close\n",
        "alpha_Day = -0.02\n",
        "if x < alpha_Day:\n",
        "  print(\"investment ok\")\n",
        "else:\n",
        "  print(\"investment not ok\")"
      ],
      "metadata": {
        "colab": {
          "base_uri": "https://localhost:8080/"
        },
        "id": "8Drs0_5RyITN",
        "outputId": "c8af7475-e188-4519-f783-c4571f93da95"
      },
      "execution_count": 102,
      "outputs": [
        {
          "output_type": "stream",
          "name": "stdout",
          "text": [
            "investment not ok\n"
          ]
        }
      ]
    },
    {
      "cell_type": "markdown",
      "source": [
        "**Channeling**\n",
        "\n",
        "Momentun precedes price"
      ],
      "metadata": {
        "id": "3H8P49NiplLI"
      }
    },
    {
      "cell_type": "code",
      "source": [
        "def calculate_rsi(Close, period=14):\n",
        "    \"\"\"Calculate the Relative Strength Index (RSI).\"\"\"\n",
        "    delta = Close.diff()\n",
        "    gains = np.where(delta > 0, delta, 0)\n",
        "    losses = np.where(delta < 0, -delta, 0)\n",
        "\n",
        "    gains = pd.Series(gains, index=Close.index)\n",
        "    losses = pd.Series(losses, index=Close.index)\n",
        "\n",
        "    avg_gain = gains.ewm(span=period, adjust=False).mean()\n",
        "    avg_loss = losses.ewm(span=period, adjust=False).mean()\n",
        "\n",
        "    rs = avg_gain / avg_loss\n",
        "    rsi = 100 - (100 / (1 + rs))\n",
        "\n",
        "    return rsi\n"
      ],
      "metadata": {
        "id": "OQ5fYXZvxwmq"
      },
      "execution_count": 103,
      "outputs": []
    },
    {
      "cell_type": "code",
      "source": [
        "def plot_rsi(Close, period=14):\n",
        "\n",
        "    rsi = calculate_rsi(df, period)\n",
        "\n",
        "    plt.figure(figsize=(10, 5))\n",
        "    plt.plot(rsi, label=\"RSI (14)\", color=\"blue\", linewidth=1.5)\n",
        "    plt.axhline(70, color='red', linestyle='dashed', alpha=0.7, label=\"Overbought (70)\")\n",
        "    plt.axhline(30, color='green', linestyle='dashed', alpha=0.7, label=\"Oversold (30)\")\n",
        "    plt.axhline(50, color='gray', linestyle='dotted', alpha=0.5, label=\"Neutral (50)\")\n",
        "\n",
        "    plt.title(\"Relative Strength Index (RSI)\")\n",
        "    plt.xlabel(\"Time\")\n",
        "    plt.ylabel(\"RSI Value\")\n",
        "    plt.legend()\n",
        "    plt.ylim(0, 100)  # RSI ranges from 0 to 100\n",
        "    plt.grid(alpha=0.3)\n",
        "\n",
        "    plt.show()\n",
        "\n",
        "\n",
        "\n"
      ],
      "metadata": {
        "id": "C3lT2escyuAI"
      },
      "execution_count": 109,
      "outputs": []
    },
    {
      "cell_type": "code",
      "source": [
        "plot_rsi(df)"
      ],
      "metadata": {
        "colab": {
          "base_uri": "https://localhost:8080/",
          "height": 487
        },
        "id": "zlrjgAAwzx5w",
        "outputId": "41250edb-aab4-461e-e0f7-099959396cdd"
      },
      "execution_count": 110,
      "outputs": [
        {
          "output_type": "display_data",
          "data": {
            "text/plain": [
              "<Figure size 1000x500 with 1 Axes>"
            ],
            "image/png": "[encoded data removed]"
          },
          "metadata": {}
        }
      ]
    }
  ]
}