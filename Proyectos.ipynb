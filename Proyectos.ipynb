{
  "nbformat": 4,
  "nbformat_minor": 0,
  "metadata": {
    "colab": {
      "provenance": [],
      "authorship_tag": "ABX9TyMiQ+U4fWiIa+QbWf6b4pi2",
      "include_colab_link": true
    },
    "kernelspec": {
      "name": "python3",
      "display_name": "Python 3"
    },
    "language_info": {
      "name": "python"
    }
  },
  "cells": [
    {
      "cell_type": "markdown",
      "metadata": {
        "id": "view-in-github",
        "colab_type": "text"
      },
      "source": [
        "<a href=\"https://colab.research.google.com/github/laumojo10/binance-investment-project/blob/main/Proyectos.ipynb\" target=\"_parent\"><img src=\"https://colab.research.google.com/assets/colab-badge.svg\" alt=\"Open In Colab\"/></a>"
      ]
    },
    {
      "cell_type": "markdown",
      "source": [
        "**Proyecto Creación de Bot texto en negrita**"
      ],
      "metadata": {
        "id": "8cuT1WcnjBsZ"
      }
    },
    {
      "cell_type": "code",
      "source": [
        "!pip install ccxt requests yfinance ta pandas numpy scipy torch matplotlib seaborn plotly python-binance"
      ],
      "metadata": {
        "colab": {
          "base_uri": "https://localhost:8080/"
        },
        "id": "v4ZNQr3Jg0yb",
        "outputId": "ca703d12-233f-4cd6-c198-0515f2d8024c"
      },
      "execution_count": 16,
      "outputs": [
        {
          "output_type": "stream",
          "name": "stdout",
          "text": [
            "Requirement already satisfied: ccxt in /usr/local/lib/python3.11/dist-packages (4.4.59)\n",
            "Requirement already satisfied: requests in /usr/local/lib/python3.11/dist-packages (2.32.3)\n",
            "Requirement already satisfied: yfinance in /usr/local/lib/python3.11/dist-packages (0.2.52)\n",
            "Requirement already satisfied: ta in /usr/local/lib/python3.11/dist-packages (0.11.0)\n",
            "Requirement already satisfied: pandas in /usr/local/lib/python3.11/dist-packages (2.2.2)\n",
            "Requirement already satisfied: numpy in /usr/local/lib/python3.11/dist-packages (1.26.4)\n",
            "Requirement already satisfied: scipy in /usr/local/lib/python3.11/dist-packages (1.13.1)\n",
            "Requirement already satisfied: torch in /usr/local/lib/python3.11/dist-packages (2.5.1+cu124)\n",
            "Requirement already satisfied: matplotlib in /usr/local/lib/python3.11/dist-packages (3.10.0)\n",
            "Requirement already satisfied: seaborn in /usr/local/lib/python3.11/dist-packages (0.13.2)\n",
            "Requirement already satisfied: plotly in /usr/local/lib/python3.11/dist-packages (5.24.1)\n",
            "Requirement already satisfied: python-binance in /usr/local/lib/python3.11/dist-packages (1.0.27)\n",
            "Requirement already satisfied: setuptools>=60.9.0 in /usr/local/lib/python3.11/dist-packages (from ccxt) (75.1.0)\n",
            "Requirement already satisfied: certifi>=2018.1.18 in /usr/local/lib/python3.11/dist-packages (from ccxt) (2025.1.31)\n",
            "Requirement already satisfied: cryptography>=2.6.1 in /usr/local/lib/python3.11/dist-packages (from ccxt) (43.0.3)\n",
            "Requirement already satisfied: typing-extensions>=4.4.0 in /usr/local/lib/python3.11/dist-packages (from ccxt) (4.12.2)\n",
            "Requirement already satisfied: aiohttp<=3.10.11 in /usr/local/lib/python3.11/dist-packages (from ccxt) (3.10.11)\n",
            "Requirement already satisfied: aiodns>=1.1.1 in /usr/local/lib/python3.11/dist-packages (from ccxt) (3.2.0)\n",
            "Requirement already satisfied: yarl>=1.7.2 in /usr/local/lib/python3.11/dist-packages (from ccxt) (1.18.3)\n",
            "Requirement already satisfied: charset-normalizer<4,>=2 in /usr/local/lib/python3.11/dist-packages (from requests) (3.4.1)\n",
            "Requirement already satisfied: idna<4,>=2.5 in /usr/local/lib/python3.11/dist-packages (from requests) (3.10)\n",
            "Requirement already satisfied: urllib3<3,>=1.21.1 in /usr/local/lib/python3.11/dist-packages (from requests) (2.3.0)\n",
            "Requirement already satisfied: multitasking>=0.0.7 in /usr/local/lib/python3.11/dist-packages (from yfinance) (0.0.11)\n",
            "Requirement already satisfied: lxml>=4.9.1 in /usr/local/lib/python3.11/dist-packages (from yfinance) (5.3.1)\n",
            "Requirement already satisfied: platformdirs>=2.0.0 in /usr/local/lib/python3.11/dist-packages (from yfinance) (4.3.6)\n",
            "Requirement already satisfied: pytz>=2022.5 in /usr/local/lib/python3.11/dist-packages (from yfinance) (2025.1)\n",
            "Requirement already satisfied: frozendict>=2.3.4 in /usr/local/lib/python3.11/dist-packages (from yfinance) (2.4.6)\n",
            "Requirement already satisfied: peewee>=3.16.2 in /usr/local/lib/python3.11/dist-packages (from yfinance) (3.17.9)\n",
            "Requirement already satisfied: beautifulsoup4>=4.11.1 in /usr/local/lib/python3.11/dist-packages (from yfinance) (4.13.3)\n",
            "Requirement already satisfied: html5lib>=1.1 in /usr/local/lib/python3.11/dist-packages (from yfinance) (1.1)\n",
            "Requirement already satisfied: python-dateutil>=2.8.2 in /usr/local/lib/python3.11/dist-packages (from pandas) (2.8.2)\n",
            "Requirement already satisfied: tzdata>=2022.7 in /usr/local/lib/python3.11/dist-packages (from pandas) (2025.1)\n",
            "Requirement already satisfied: filelock in /usr/local/lib/python3.11/dist-packages (from torch) (3.17.0)\n",
            "Requirement already satisfied: networkx in /usr/local/lib/python3.11/dist-packages (from torch) (3.4.2)\n",
            "Requirement already satisfied: jinja2 in /usr/local/lib/python3.11/dist-packages (from torch) (3.1.5)\n",
            "Requirement already satisfied: fsspec in /usr/local/lib/python3.11/dist-packages (from torch) (2024.10.0)\n",
            "Requirement already satisfied: nvidia-cuda-nvrtc-cu12==12.4.127 in /usr/local/lib/python3.11/dist-packages (from torch) (12.4.127)\n",
            "Requirement already satisfied: nvidia-cuda-runtime-cu12==12.4.127 in /usr/local/lib/python3.11/dist-packages (from torch) (12.4.127)\n",
            "Requirement already satisfied: nvidia-cuda-cupti-cu12==12.4.127 in /usr/local/lib/python3.11/dist-packages (from torch) (12.4.127)\n",
            "Requirement already satisfied: nvidia-cudnn-cu12==9.1.0.70 in /usr/local/lib/python3.11/dist-packages (from torch) (9.1.0.70)\n",
            "Requirement already satisfied: nvidia-cublas-cu12==12.4.5.8 in /usr/local/lib/python3.11/dist-packages (from torch) (12.4.5.8)\n",
            "Requirement already satisfied: nvidia-cufft-cu12==11.2.1.3 in /usr/local/lib/python3.11/dist-packages (from torch) (11.2.1.3)\n",
            "Requirement already satisfied: nvidia-curand-cu12==10.3.5.147 in /usr/local/lib/python3.11/dist-packages (from torch) (10.3.5.147)\n",
            "Requirement already satisfied: nvidia-cusolver-cu12==11.6.1.9 in /usr/local/lib/python3.11/dist-packages (from torch) (11.6.1.9)\n",
            "Requirement already satisfied: nvidia-cusparse-cu12==12.3.1.170 in /usr/local/lib/python3.11/dist-packages (from torch) (12.3.1.170)\n",
            "Requirement already satisfied: nvidia-nccl-cu12==2.21.5 in /usr/local/lib/python3.11/dist-packages (from torch) (2.21.5)\n",
            "Requirement already satisfied: nvidia-nvtx-cu12==12.4.127 in /usr/local/lib/python3.11/dist-packages (from torch) (12.4.127)\n",
            "Requirement already satisfied: nvidia-nvjitlink-cu12==12.4.127 in /usr/local/lib/python3.11/dist-packages (from torch) (12.4.127)\n",
            "Requirement already satisfied: triton==3.1.0 in /usr/local/lib/python3.11/dist-packages (from torch) (3.1.0)\n",
            "Requirement already satisfied: sympy==1.13.1 in /usr/local/lib/python3.11/dist-packages (from torch) (1.13.1)\n",
            "Requirement already satisfied: mpmath<1.4,>=1.1.0 in /usr/local/lib/python3.11/dist-packages (from sympy==1.13.1->torch) (1.3.0)\n",
            "Requirement already satisfied: contourpy>=1.0.1 in /usr/local/lib/python3.11/dist-packages (from matplotlib) (1.3.1)\n",
            "Requirement already satisfied: cycler>=0.10 in /usr/local/lib/python3.11/dist-packages (from matplotlib) (0.12.1)\n",
            "Requirement already satisfied: fonttools>=4.22.0 in /usr/local/lib/python3.11/dist-packages (from matplotlib) (4.56.0)\n",
            "Requirement already satisfied: kiwisolver>=1.3.1 in /usr/local/lib/python3.11/dist-packages (from matplotlib) (1.4.8)\n",
            "Requirement already satisfied: packaging>=20.0 in /usr/local/lib/python3.11/dist-packages (from matplotlib) (24.2)\n",
            "Requirement already satisfied: pillow>=8 in /usr/local/lib/python3.11/dist-packages (from matplotlib) (11.1.0)\n",
            "Requirement already satisfied: pyparsing>=2.3.1 in /usr/local/lib/python3.11/dist-packages (from matplotlib) (3.2.1)\n",
            "Requirement already satisfied: tenacity>=6.2.0 in /usr/local/lib/python3.11/dist-packages (from plotly) (9.0.0)\n",
            "Requirement already satisfied: six in /usr/local/lib/python3.11/dist-packages (from python-binance) (1.17.0)\n",
            "Requirement already satisfied: dateparser in /usr/local/lib/python3.11/dist-packages (from python-binance) (1.2.1)\n",
            "Requirement already satisfied: websockets in /usr/local/lib/python3.11/dist-packages (from python-binance) (14.2)\n",
            "Requirement already satisfied: pycryptodome in /usr/local/lib/python3.11/dist-packages (from python-binance) (3.21.0)\n",
            "Requirement already satisfied: pycares>=4.0.0 in /usr/local/lib/python3.11/dist-packages (from aiodns>=1.1.1->ccxt) (4.5.0)\n",
            "Requirement already satisfied: aiohappyeyeballs>=2.3.0 in /usr/local/lib/python3.11/dist-packages (from aiohttp<=3.10.11->ccxt) (2.4.6)\n",
            "Requirement already satisfied: aiosignal>=1.1.2 in /usr/local/lib/python3.11/dist-packages (from aiohttp<=3.10.11->ccxt) (1.3.2)\n",
            "Requirement already satisfied: attrs>=17.3.0 in /usr/local/lib/python3.11/dist-packages (from aiohttp<=3.10.11->ccxt) (25.1.0)\n",
            "Requirement already satisfied: frozenlist>=1.1.1 in /usr/local/lib/python3.11/dist-packages (from aiohttp<=3.10.11->ccxt) (1.5.0)\n",
            "Requirement already satisfied: multidict<7.0,>=4.5 in /usr/local/lib/python3.11/dist-packages (from aiohttp<=3.10.11->ccxt) (6.1.0)\n",
            "Requirement already satisfied: soupsieve>1.2 in /usr/local/lib/python3.11/dist-packages (from beautifulsoup4>=4.11.1->yfinance) (2.6)\n",
            "Requirement already satisfied: cffi>=1.12 in /usr/local/lib/python3.11/dist-packages (from cryptography>=2.6.1->ccxt) (1.17.1)\n",
            "Requirement already satisfied: webencodings in /usr/local/lib/python3.11/dist-packages (from html5lib>=1.1->yfinance) (0.5.1)\n",
            "Requirement already satisfied: propcache>=0.2.0 in /usr/local/lib/python3.11/dist-packages (from yarl>=1.7.2->ccxt) (0.2.1)\n",
            "Requirement already satisfied: regex!=2019.02.19,!=2021.8.27,>=2015.06.24 in /usr/local/lib/python3.11/dist-packages (from dateparser->python-binance) (2024.11.6)\n",
            "Requirement already satisfied: tzlocal>=0.2 in /usr/local/lib/python3.11/dist-packages (from dateparser->python-binance) (5.2)\n",
            "Requirement already satisfied: MarkupSafe>=2.0 in /usr/local/lib/python3.11/dist-packages (from jinja2->torch) (3.0.2)\n",
            "Requirement already satisfied: pycparser in /usr/local/lib/python3.11/dist-packages (from cffi>=1.12->cryptography>=2.6.1->ccxt) (2.22)\n"
          ]
        }
      ]
    },
    {
      "cell_type": "code",
      "execution_count": 17,
      "metadata": {
        "id": "hqRLFUXxfs7g"
      },
      "outputs": [],
      "source": [
        "import ccxt\n",
        "import requests\n",
        "import time\n",
        "import yfinance  as yf\n",
        "import ta\n",
        "import pandas as pd\n",
        "import numpy  as np\n",
        "from scipy.optimize import minimize\n",
        "import torch\n",
        "import matplotlib.pyplot as plt\n",
        "import seaborn as sns\n",
        "import plotly.graph_objects as go\n",
        "#from binance.client import Client"
      ]
    },
    {
      "cell_type": "code",
      "source": [
        "from binance.client import Client"
      ],
      "metadata": {
        "id": "4WROmzHJclXm"
      },
      "execution_count": 126,
      "outputs": []
    },
    {
      "cell_type": "code",
      "source": [
        "# Configura tus claves de API (obténlas desde Binance)\n",
        "API_KEY = \"A0qBhK6SlZkAEty05D4Oj16L4PAdCsCiTpUqkb4DbeT6leDv3ofIZOxpSU20Ps6z\"\n",
        "API_SECRET = \"R04BSkajiI4LrwbBy3nVKkXhatOvygyxIh8DyQ01IAto1jUPEeiIomk7nWfVfy59\""
      ],
      "metadata": {
        "id": "5LJM1aGXNl1F"
      },
      "execution_count": 127,
      "outputs": []
    },
    {
      "cell_type": "code",
      "source": [
        "response = requests.get(\"https://api.binance.com/api/v3/ping\")\n",
        "print(response.status_code, response.text)"
      ],
      "metadata": {
        "colab": {
          "base_uri": "https://localhost:8080/"
        },
        "id": "80B7nqcDg7BK",
        "outputId": "8f83e815-4674-49df-e00e-95090ee1c5ee"
      },
      "execution_count": 128,
      "outputs": [
        {
          "output_type": "stream",
          "name": "stdout",
          "text": [
            "451 {\n",
            "  \"code\": 0,\n",
            "  \"msg\": \"Service unavailable from a restricted location according to 'b. Eligibility' in https://www.binance.com/en/terms. Please contact customer service if you believe you received this message in error.\"\n",
            "}\n"
          ]
        }
      ]
    },
    {
      "cell_type": "code",
      "source": [
        "# Inicializa el cliente de Binance\n",
        "client = Client(API_KEY, API_SECRET,tld=\"us\")"
      ],
      "metadata": {
        "id": "DKxQPkpyOnX3"
      },
      "execution_count": 129,
      "outputs": []
    },
    {
      "cell_type": "code",
      "source": [
        "# Define la criptomoneda a monitorear\n",
        "symbol = \"BTC/USDT\"  # Puedes cambiarlo por ETH/USDT, EUR/USDT, etc.\n",
        "alert_price = 40000  # Precio de alerta"
      ],
      "metadata": {
        "id": "KCvYTB1MOpec"
      },
      "execution_count": 130,
      "outputs": []
    },
    {
      "cell_type": "code",
      "source": [
        "# Conectar con Binance usando CCXT\n",
        "exchange = ccxt.binance()\n"
      ],
      "metadata": {
        "id": "yVvrWm92OrgO"
      },
      "execution_count": 131,
      "outputs": []
    },
    {
      "cell_type": "code",
      "source": [
        "# Get historical klines (candlestick) data for BTC/USDT (1-day interval)\n",
        "klines = client.get_klines(symbol=\"BTCUSDT\", interval=Client.KLINE_INTERVAL_1DAY)\n",
        "\n",
        "# Convert to DataFrame\n",
        "df = pd.DataFrame(klines, columns=['Time', 'Open', 'High', 'Low', 'Close', 'Volume',\n",
        "                                   'CloseTime', 'QuoteVolume', 'Trades', 'TakerBaseVol', 'TakerQuoteVol', 'Ignore'])\n",
        "\n",
        "# Convert Close price to float and timestamp to readable format\n",
        "df['Close_day'] = df['Close'].astype(float)\n",
        "df['Time'] = pd.to_datetime(df['Time'], unit='ms')\n",
        "\n",
        "# Print last 5 rows\n",
        "print(df[['Time', 'Close_day']].tail())"
      ],
      "metadata": {
        "colab": {
          "base_uri": "https://localhost:8080/"
        },
        "id": "MDsdxiBwiYh2",
        "outputId": "ff848397-c7fa-401a-ae4a-e32574b69cf2"
      },
      "execution_count": 132,
      "outputs": [
        {
          "output_type": "stream",
          "name": "stdout",
          "text": [
            "          Time  Close_day\n",
            "495 2025-02-11   95748.61\n",
            "496 2025-02-12   97712.99\n",
            "497 2025-02-13   96550.39\n",
            "498 2025-02-14   97477.75\n",
            "499 2025-02-15   97429.06\n"
          ]
        }
      ]
    },
    {
      "cell_type": "code",
      "source": [
        "# Fetch BTC/USDT historical klines with a 4-hour interval\n",
        "klines = client.get_klines(symbol=\"BTCUSDT\", interval=Client.KLINE_INTERVAL_4HOUR)\n",
        "\n",
        "# Convert to DataFrame\n",
        "df = pd.DataFrame(klines, columns=['Time', 'Open', 'High', 'Low', 'Close', 'Volume',\n",
        "                                   'CloseTime', 'QuoteVolume', 'Trades', 'TakerBaseVol', 'TakerQuoteVol', 'Ignore'])\n",
        "\n",
        "# Convert Close price to float and timestamp to readable format\n",
        "df['Close'] = df['Close'].astype(float)\n",
        "df['Time'] = pd.to_datetime(df['Time'], unit='ms')\n",
        "\n",
        "# Print last 5 rows\n",
        "print(df[['Time', 'Close']].tail(20))"
      ],
      "metadata": {
        "colab": {
          "base_uri": "https://localhost:8080/"
        },
        "id": "MR8M8-nJlH-Y",
        "outputId": "2e246fcb-4bf3-4ad9-8a85-290d41809351"
      },
      "execution_count": 133,
      "outputs": [
        {
          "output_type": "stream",
          "name": "stdout",
          "text": [
            "                   Time     Close\n",
            "480 2025-02-12 12:00:00  95727.07\n",
            "481 2025-02-12 16:00:00  97157.62\n",
            "482 2025-02-12 20:00:00  97712.99\n",
            "483 2025-02-13 00:00:00  97380.05\n",
            "484 2025-02-13 04:00:00  96036.53\n",
            "485 2025-02-13 08:00:00  95943.23\n",
            "486 2025-02-13 12:00:00  95936.36\n",
            "487 2025-02-13 16:00:00  95672.44\n",
            "488 2025-02-13 20:00:00  96550.39\n",
            "489 2025-02-14 00:00:00  97012.33\n",
            "490 2025-02-14 04:00:00  96900.93\n",
            "491 2025-02-14 08:00:00  96908.69\n",
            "492 2025-02-14 12:00:00  96860.20\n",
            "493 2025-02-14 16:00:00  97924.11\n",
            "494 2025-02-14 20:00:00  97477.75\n",
            "495 2025-02-15 00:00:00  97701.82\n",
            "496 2025-02-15 04:00:00  97435.82\n",
            "497 2025-02-15 08:00:00  97636.01\n",
            "498 2025-02-15 12:00:00  97518.60\n",
            "499 2025-02-15 16:00:00  97429.06\n"
          ]
        }
      ]
    },
    {
      "cell_type": "code",
      "source": [
        "# Fetch BTC/USDT historical klines with a 4-hour interval\n",
        "klines = client.get_klines(symbol=\"BTCUSDT\", interval=Client.KLINE_INTERVAL_1WEEK)\n",
        "\n",
        "# Convert to DataFrame\n",
        "df = pd.DataFrame(klines, columns=['Time', 'Open', 'High', 'Low', 'Close', 'Volume',\n",
        "                                   'CloseTime', 'QuoteVolume', 'Trades', 'TakerBaseVol', 'TakerQuoteVol', 'Ignore'])\n",
        "\n",
        "# Convert Close price to float and timestamp to readable format\n",
        "df['Close_1WEEK'] = df['Close'].astype(float)\n",
        "df['Time'] = pd.to_datetime(df['Time'], unit='ms')\n",
        "\n",
        "# Print last 5 rows\n",
        "print(df[['Time', 'Close']].tail(20))"
      ],
      "metadata": {
        "colab": {
          "base_uri": "https://localhost:8080/"
        },
        "id": "jST2R15_lxn9",
        "outputId": "fe9bed5b-4aa2-458f-c5c8-31be87b7505b"
      },
      "execution_count": 134,
      "outputs": [
        {
          "output_type": "stream",
          "name": "stdout",
          "text": [
            "          Time            Close\n",
            "262 2024-09-30   62807.02000000\n",
            "263 2024-10-07   62857.80000000\n",
            "264 2024-10-14   69029.51000000\n",
            "265 2024-10-21   67900.00000000\n",
            "266 2024-10-28   68724.23000000\n",
            "267 2024-11-04   80452.94000000\n",
            "268 2024-11-11   89792.00000000\n",
            "269 2024-11-18   97700.51000000\n",
            "270 2024-11-25   97249.75000000\n",
            "271 2024-12-02  101159.43000000\n",
            "272 2024-12-09  104334.87000000\n",
            "273 2024-12-16   95119.37000000\n",
            "274 2024-12-23   93861.71000000\n",
            "275 2024-12-30   98300.03000000\n",
            "276 2025-01-06   94455.62000000\n",
            "277 2025-01-13  101032.19000000\n",
            "278 2025-01-20  102618.04000000\n",
            "279 2025-01-27   97692.60000000\n",
            "280 2025-02-03   96426.86000000\n",
            "281 2025-02-10   97429.06000000\n"
          ]
        }
      ]
    },
    {
      "cell_type": "code",
      "source": [
        "# Calculate 200-day moving average\n",
        "df['200_MA'] = df['Close'].rolling(window=200).mean()\n",
        "\n",
        "# Print result\n",
        "print(df)"
      ],
      "metadata": {
        "colab": {
          "base_uri": "https://localhost:8080/"
        },
        "id": "3Km1P_YsrtD5",
        "outputId": "5156ae52-05c4-4569-8fee-fee842a4647a"
      },
      "execution_count": 135,
      "outputs": [
        {
          "output_type": "stream",
          "name": "stdout",
          "text": [
            "          Time             Open             High             Low  \\\n",
            "0   2019-09-23    9930.13000000    9930.13000000   7761.87000000   \n",
            "1   2019-09-30    8058.25000000    8498.23000000   7744.23000000   \n",
            "2   2019-10-07    7860.25000000    8772.46000000   7772.14000000   \n",
            "3   2019-10-14    8273.46000000    8400.92000000   7825.00000000   \n",
            "4   2019-10-21    8222.00000000   10352.43000000   7310.24000000   \n",
            "..         ...              ...              ...             ...   \n",
            "277 2025-01-13   94561.19000000  106351.62000000  89438.45000000   \n",
            "278 2025-01-20  101032.80000000  109461.87000000  99611.36000000   \n",
            "279 2025-01-27  102618.04000000  106300.00000000  96501.73000000   \n",
            "280 2025-02-03   97702.50000000  102326.68000000  92197.00000000   \n",
            "281 2025-02-10   96514.66000000   98668.27000000  94246.95000000   \n",
            "\n",
            "               Close         Volume      CloseTime        QuoteVolume  Trades  \\\n",
            "0      8047.12000000   429.67285400  1569801599999   3598187.80739697    6566   \n",
            "1      7866.87000000   374.56444300  1570406399999   3029555.23378744   12767   \n",
            "2      8276.97000000   474.85882800  1571011199999   3958565.68823375   20005   \n",
            "3      8220.22000000   625.57210700  1571615999999   5062075.79745225   29912   \n",
            "4      9530.88000000  2223.66104800  1572220799999  19154799.22478981  149979   \n",
            "..               ...            ...            ...                ...     ...   \n",
            "277  101032.19000000   172.58743000  1737331199999  17224159.04232560   31665   \n",
            "278  102618.04000000   217.16965000  1737935999999  22757489.93703970   31875   \n",
            "279   97692.60000000   216.30814000  1738540799999  21959541.62014940   26902   \n",
            "280   96426.86000000   171.29131000  1739145599999  16605131.82958810   26741   \n",
            "281   97429.06000000    71.99805000  1739750399999   6969952.81665310   13931   \n",
            "\n",
            "      TakerBaseVol      TakerQuoteVol Ignore  Close_1WEEK       200_MA  \n",
            "0     243.54207900   2037340.48568394      0      8047.12          NaN  \n",
            "1     216.20009900   1748763.98412791      0      7866.87          NaN  \n",
            "2     232.27501900   1933903.30982701      0      8276.97          NaN  \n",
            "3     323.13549100   2612162.35312223      0      8220.22          NaN  \n",
            "4    1129.57110700   9774236.07520754      0      9530.88          NaN  \n",
            "..             ...                ...    ...          ...          ...  \n",
            "277    98.69533000   9871048.26952820      0    101032.19  43361.96910  \n",
            "278   117.71158000  12372156.82341480      0    102618.04  43596.19030  \n",
            "279    90.42513000   9233039.34012500      0     97692.60  43793.75415  \n",
            "280    66.19070000   6438350.84019810      0     96426.86  43975.88145  \n",
            "281    37.33880000   3614962.83925010      0     97429.06  44182.25120  \n",
            "\n",
            "[282 rows x 14 columns]\n"
          ]
        }
      ]
    },
    {
      "cell_type": "code",
      "source": [
        "for_last_SMA200=df['Close_1WEEK'].iloc[-1]\n",
        "print(for_last_SMA200)"
      ],
      "metadata": {
        "colab": {
          "base_uri": "https://localhost:8080/"
        },
        "id": "6jvcNZbKn865",
        "outputId": "6121db55-e7bc-4746-824a-271a0de65f4b"
      },
      "execution_count": 136,
      "outputs": [
        {
          "output_type": "stream",
          "name": "stdout",
          "text": [
            "97429.06\n"
          ]
        }
      ]
    },
    {
      "cell_type": "code",
      "source": [
        "last_SMA200=df['Close_1WEEK'].iloc[-2]\n",
        "print(inicio)"
      ],
      "metadata": {
        "colab": {
          "base_uri": "https://localhost:8080/"
        },
        "id": "BU6KbYPcohwb",
        "outputId": "8c9d8333-a527-461a-fc7f-29190197a9cf"
      },
      "execution_count": 137,
      "outputs": [
        {
          "output_type": "stream",
          "name": "stdout",
          "text": [
            "96426.86\n"
          ]
        }
      ]
    },
    {
      "cell_type": "code",
      "source": [
        "# Sample data: Assume you have a DataFrame with a 'Close' column\n",
        "bull_market_criteria = (last_SMA200 - for_last_SMA200)/for_last_SMA200\n",
        "print(bull_market_criteria)\n",
        "\n",
        "alpha_bull=0.01\n",
        "if bull_market_criteria > alpha_bull:\n",
        "    print(\"bull market\")\n",
        "else:\n",
        "    print(\"bear market\")"
      ],
      "metadata": {
        "colab": {
          "base_uri": "https://localhost:8080/"
        },
        "id": "iYWRX8ehmCJb",
        "outputId": "d3c3a9b3-a675-46d8-b1fd-89e9d19236fb"
      },
      "execution_count": 138,
      "outputs": [
        {
          "output_type": "stream",
          "name": "stdout",
          "text": [
            "-0.010286458680808346\n",
            "bear market\n"
          ]
        }
      ]
    },
    {
      "cell_type": "code",
      "source": [
        "ff =df['Close_1WEEK'].iloc[-1]\n",
        "f2 = df['200_MA'].iloc[-1]\n",
        "print(ff)\n",
        "print(f2)"
      ],
      "metadata": {
        "colab": {
          "base_uri": "https://localhost:8080/"
        },
        "id": "0J6oY6BDpxZe",
        "outputId": "2631c2f2-9334-4862-bb19-b0676b6223ca"
      },
      "execution_count": 139,
      "outputs": [
        {
          "output_type": "stream",
          "name": "stdout",
          "text": [
            "97429.06\n",
            "44182.25119999999\n"
          ]
        }
      ]
    },
    {
      "cell_type": "code",
      "source": [
        "criteria_2 = (ff -f2)/f2\n",
        "alpha_bull_2= 0.01\n",
        "if criteria_2 >alpha_bull_2:\n",
        "    print(\"bull market\")\n",
        "else:\n",
        "    print(\"bear market\")"
      ],
      "metadata": {
        "colab": {
          "base_uri": "https://localhost:8080/"
        },
        "id": "Y0K7M1a-sLJk",
        "outputId": "c769493e-a6a6-49fa-8b87-2f590599d4e6"
      },
      "execution_count": 140,
      "outputs": [
        {
          "output_type": "stream",
          "name": "stdout",
          "text": [
            "bull market\n"
          ]
        }
      ]
    },
    {
      "cell_type": "markdown",
      "source": [
        "DCA"
      ],
      "metadata": {
        "id": "jQE7yGWes3hY"
      }
    },
    {
      "cell_type": "code",
      "source": [
        "#DCA: dollar cost average\n",
        "#constant investing quantities in regular periods of time\n"
      ],
      "metadata": {
        "id": "DTrOLb98s5HK"
      },
      "execution_count": null,
      "outputs": []
    },
    {
      "cell_type": "code",
      "source": [
        "\n",
        "    # Obtener el precio actual de Bitcoin (BTC/USDT)\n",
        "    price = client.get_symbol_ticker(symbol=\"BTCUSDT\")[\"price\"]\n",
        "    price = float(price)\n",
        "    print(f\"Precio actual de BTC/USDT: {price}\")\n",
        "    # Esperar 1 minuto (60 segundos)\n",
        ""
      ],
      "metadata": {
        "colab": {
          "base_uri": "https://localhost:8080/"
        },
        "id": "RQejfSOpuA7R",
        "outputId": "bca5db88-8394-406d-df1c-94f6e05217e2"
      },
      "execution_count": 141,
      "outputs": [
        {
          "output_type": "stream",
          "name": "stdout",
          "text": [
            "Precio actual de BTC/USDT: 97429.06\n"
          ]
        }
      ]
    },
    {
      "cell_type": "code",
      "source": [
        "df_precio=pd.DataFrame([[price]],columns=['price_Actual'])"
      ],
      "metadata": {
        "id": "jm17YVMgxyUl"
      },
      "execution_count": 146,
      "outputs": []
    },
    {
      "cell_type": "code",
      "source": [
        "precio_Actual=df_precio['price_Actual'].iloc[0]\n",
        "print(precio_Actual)"
      ],
      "metadata": {
        "colab": {
          "base_uri": "https://localhost:8080/"
        },
        "id": "TtvYFMzxx03Y",
        "outputId": "5c333457-7826-4340-8c61-c7f06e9be4ae"
      },
      "execution_count": 143,
      "outputs": [
        {
          "output_type": "stream",
          "name": "stdout",
          "text": [
            "97429.06\n"
          ]
        }
      ]
    },
    {
      "cell_type": "code",
      "source": [
        "print(precio_Actual)\n",
        "print(price_lastday_close)\n"
      ],
      "metadata": {
        "colab": {
          "base_uri": "https://localhost:8080/"
        },
        "id": "Dl1Ht9W8vVcE",
        "outputId": "217d42b6-2848-416a-890b-311be9707562"
      },
      "execution_count": 149,
      "outputs": [
        {
          "output_type": "stream",
          "name": "stdout",
          "text": [
            "97429.06\n",
            "97363.62\n"
          ]
        }
      ]
    },
    {
      "cell_type": "code",
      "source": [
        "x = (precio_Actual - price_lastday_close)/price_lastday_close\n",
        "alpha_Day = -0.02\n",
        "if x < alpha_Day:\n",
        "  print(\"investment ok\")\n",
        "else:\n",
        "  print(\"investment not ok\")"
      ],
      "metadata": {
        "colab": {
          "base_uri": "https://localhost:8080/"
        },
        "id": "8Drs0_5RyITN",
        "outputId": "4cd7b868-fd95-4fb4-d193-38da207ff190"
      },
      "execution_count": 150,
      "outputs": [
        {
          "output_type": "stream",
          "name": "stdout",
          "text": [
            "investment not ok\n"
          ]
        }
      ]
    }
  ]
}